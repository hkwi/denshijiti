{
 "cells": [
  {
   "cell_type": "markdown",
   "metadata": {},
   "source": [
    "「標準地域コード」の助けを借りつつ、「全国地方公共団体コード」の RDF を生成する。"
   ]
  },
  {
   "cell_type": "code",
   "execution_count": 1,
   "metadata": {
    "collapsed": false
   },
   "outputs": [
    {
     "name": "stderr",
     "output_type": "stream",
     "text": [
      "INFO:rdflib:RDFLib Version: 4.2.1\n"
     ]
    }
   ],
   "source": [
    "import pandas as pd\n",
    "import numpy as np\n",
    "import rdflib\n",
    "import datetime\n",
    "import re\n",
    "import lxml.html\n",
    "import rdflib\n",
    "import math\n",
    "import os.path\n",
    "import urllib.parse\n",
    "import jaconv"
   ]
  },
  {
   "cell_type": "code",
   "execution_count": 2,
   "metadata": {
    "collapsed": true
   },
   "outputs": [],
   "source": [
    "from rdflib.namespace import RDF, RDFS, DCTERMS\n",
    "SACS = rdflib.Namespace(\"http://data.e-stat.go.jp/lod/terms/sacs#\")\n",
    "JITI = rdflib.Namespace(\"http://hkwi.github.com/denshijiti/#\")\n",
    "JITIS = rdflib.Namespace(\"http://hkwi.github.com/denshijiti/terms#\")\n",
    "IC = rdflib.Namespace(\"http://imi.ipa.go.jp/ns/core/rdf#\")"
   ]
  },
  {
   "cell_type": "markdown",
   "metadata": {},
   "source": [
    "e-stat「標準地域コード」を取り込む。http://data.e-stat.go.jp/lodw/rdfschema/downloadfile/"
   ]
  },
  {
   "cell_type": "code",
   "execution_count": 3,
   "metadata": {
    "collapsed": false
   },
   "outputs": [],
   "source": [
    "estat = rdflib.Graph()\n",
    "estat.load(\"http://data.e-stat.go.jp/lodw/download/rdfschema/StandardAreaCode.ttl\", format=\"turtle\")"
   ]
  },
  {
   "cell_type": "markdown",
   "metadata": {},
   "source": [
    "現在の excel を収集する。"
   ]
  },
  {
   "cell_type": "code",
   "execution_count": 4,
   "metadata": {
    "collapsed": false
   },
   "outputs": [],
   "source": [
    "p = lxml.html.parse(\"http://www.soumu.go.jp/denshijiti/code.html\")\n",
    "r = p.getroot()\n",
    "r.make_links_absolute()\n",
    "for h in r.xpath(\"//h3\"):\n",
    "    if h.text.find(\"都道府県コード\") >= 0:\n",
    "        for l in h.xpath(\"following-sibling::node()//li\"):\n",
    "            if l.text.find(\"改正一覧\") >= 0:\n",
    "                for a in l.xpath(\"self::node()//a/@href\"):\n",
    "                    if a.lower().endswith(\".xls\"):\n",
    "                        clist_hist = a\n",
    "                        break\n",
    "            else:\n",
    "                for a in l.xpath(\"self::node()//a/@href\"):\n",
    "                    if a.lower().endswith(\".xls\"):\n",
    "                        clist = a\n",
    "                        break"
   ]
  },
  {
   "cell_type": "markdown",
   "metadata": {},
   "source": [
    "まず過去履歴を集める"
   ]
  },
  {
   "cell_type": "code",
   "execution_count": 5,
   "metadata": {
    "collapsed": false
   },
   "outputs": [],
   "source": [
    "x = pd.read_excel(clist_hist, skiprows=1, header=[0,1,2])\n",
    "x.columns=[\n",
    "    \"a\",\"b\",\"c\",\"都道府県名\",\n",
    "    \"改正前コード\",\"改正前市区町村名\",\"改正前市区町村名ふりがな\",\n",
    "    \"改正区分\",\"改正年月日\",\n",
    "    \"改正後コード\",\"改正後市区町村名\",\"改正後市区町村名ふりがな\",\n",
    "    \"事由等\"\n",
    "]\n",
    "x.index = range(len(x.index))"
   ]
  },
  {
   "cell_type": "code",
   "execution_count": 6,
   "metadata": {
    "collapsed": false
   },
   "outputs": [],
   "source": [
    "asub = x[\"改正前市区町村名\"].str.extract(r\"^[\\(（](.*)[\\)）]$\", expand=False)\n",
    "bsub = x[\"改正後市区町村名\"].str.extract(r\"^[\\(（](.*)[\\)）]$\", expand=False)\n",
    "ks = [\"都道府県名\", \"改正前コード\", \"改正区分\", \"改正年月日\", \"改正後コード\"]\n",
    "x2 = x[asub.isnull() & bsub.isnull() & x[ks].notnull().any(axis=1)].assign(asub=None, bsub=None)\n",
    "for i,d in asub[asub.notnull()].iteritems():\n",
    "    x2.loc[i-1, \"asub\"] = d\n",
    "for i,d in asub[bsub.notnull()].iteritems():\n",
    "    x2.loc[i-1, \"bsub\"] = d\n",
    "\n",
    "x2.index = range(len(x2.index))"
   ]
  },
  {
   "cell_type": "code",
   "execution_count": 7,
   "metadata": {
    "collapsed": false
   },
   "outputs": [],
   "source": [
    "for ri,r in x2.iterrows():\n",
    "    for ci,c in r.iteritems():\n",
    "        if c==\"〃\":\n",
    "            x2.loc[ri, ci] = x2.loc[ri-1, ci]"
   ]
  },
  {
   "cell_type": "code",
   "execution_count": 8,
   "metadata": {
    "collapsed": true
   },
   "outputs": [],
   "source": [
    "cids = []\n",
    "cid = 0\n",
    "t = x2.assign(u=lambda o: o[\"都道府県名\"].notnull())\n",
    "for ri, r in x2.iterrows():\n",
    "    if not isinstance(r[\"都道府県名\"], float):\n",
    "        cid += 1\n",
    "    cids.append(cid)"
   ]
  },
  {
   "cell_type": "code",
   "execution_count": 9,
   "metadata": {
    "collapsed": false
   },
   "outputs": [],
   "source": [
    "dts = []\n",
    "t = pd.concat([x2, pd.Series(cids, name=\"cid\"), pd.Series(None, name=\"date\")], axis=1)\n",
    "for i in range(cid):\n",
    "    u = t[(t[\"cid\"]==i+1) & t[\"改正年月日\"].notnull()]\n",
    "    assert len(set(u[\"改正年月日\"]))==1, u.to_csv()\n",
    "    for d in set(u[\"改正年月日\"]):\n",
    "        if isinstance(d, datetime.datetime):\n",
    "            dt = d.date()\n",
    "        elif isinstance(d, datetime.date):\n",
    "            dt = d\n",
    "        else:\n",
    "            m = re.match(r\"H(\\d{2})\\.(\\d+)\\.(\\d+)\", d)\n",
    "            dt = datetime.date(2000+int(m.group(1))-12, int(m.group(2)), int(m.group(3)))\n",
    "    for ri,r in t[(t[\"cid\"]==i+1)].iterrows():\n",
    "        t.loc[ri,\"date\"] = dt\n"
   ]
  },
  {
   "cell_type": "code",
   "execution_count": 10,
   "metadata": {
    "collapsed": false
   },
   "outputs": [],
   "source": [
    "g = rdflib.Graph()\n",
    "g.bind(\"ic\", IC)\n",
    "g.bind(\"jiti\", JITI)\n",
    "g.bind(\"jitis\", JITIS)\n",
    "g.bind(\"dcterms\", DCTERMS)\n",
    "\n",
    "for cls in (\"StandardAreaCode\", \"CodeSet\", \"CodeChangeEvent\"):\n",
    "    g.add((JITIS[cls], RDF.type, RDFS[\"Class\"]))\n",
    "\n",
    "g.add((JITIS[\"StandardAreaCode\"], RDFS.subClassOf, IC[\"住所\"]))\n",
    "\n",
    "def get_code(code_like):\n",
    "    code = \"%06d\" % int(code_like)\n",
    "    assert code_checksum(code) == code[5:], \"code %s checksum error\" % code\n",
    "    return code\n",
    "\n",
    "def code_checksum(code):\n",
    "    s = np.array([int(s) for s in code[:5]]) * np.array([6,5,4,3,2])\n",
    "    return str(11 - s.sum() % 11)[-1]\n",
    "\n",
    "def get_code_id(url_like):\n",
    "    m = re.search(r\"C(?P<code>\\d{5})-(?P<ymd>\\d{8})$\", url_like)\n",
    "    assert m, \"code_id %s format error\" % url_like\n",
    "    return m.group(0)\n",
    "\n",
    "class Code(object):\n",
    "    def __init__(self, code_id):\n",
    "        m = re.match(r\"C(?P<code>\\d{5})-(?P<ymd>\\d{8})$\", code_id)\n",
    "        assert m, \"code %s format error\" % code_id\n",
    "        self.code = m.group(\"code\")\n",
    "        self.csum = code_checksum(self.code)\n",
    "        \n",
    "        # e-Stat LOD 準拠\n",
    "        self.sac = JITI[code_id]\n",
    "        g.add((self.sac, RDF[\"type\"], JITIS[\"StandardAreaCode\"]))\n",
    "        g.add((self.sac, DCTERMS[\"identifier\"], rdflib.Literal(self.code)))\n",
    "        g.add((self.sac, JITIS[\"checkDigit\"], rdflib.Literal(self.csum)))\n",
    "        \n",
    "        # 共通語彙基盤 住所IEP\n",
    "        self.ic = JITI[\"LG-%s\" % code_id]\n",
    "        g.add((self.ic, RDF.type, IC[\"コード型\"]))\n",
    "        if self.code[2:] == \"000\":\n",
    "            g.add((self.ic, IC[\"識別値\"], rdflib.Literal(self.code[:2], datatype=rdflib.XSD.string)))\n",
    "            g.add((self.sac, IC[\"都道府県コード\"], self.ic))\n",
    "        else:\n",
    "            g.add((self.ic, IC[\"識別値\"], rdflib.Literal(self.code[2:]+self.csum, datatype=rdflib.XSD.string)))\n",
    "            g.add((self.sac, IC[\"市区町村コード\"], self.ic))\n",
    "            \n",
    "            q = '''\n",
    "            PREFIX dcterms: <http://purl.org/dc/terms/>\n",
    "            SELECT ?s WHERE {\n",
    "                ?s a sacs:StandardAreaCode ;\n",
    "                   dcterms:identifier \"%s000\" ;\n",
    "                   dcterms:issued ?d .\n",
    "            }\n",
    "            ORDER BY DESC(?d) LIMIT 1\n",
    "            ''' % self.code[:2]\n",
    "            for s, in estat.query(q):\n",
    "                pid = get_code_id(s)\n",
    "                g.add((self.sac, IC[\"都道府県コード\"], JITI[\"LG-%s\" % pid]))\n",
    "\n",
    "    def set_name(self, name, kana):\n",
    "        assert name != \"同左\"\n",
    "        assert kana != \"同左\"\n",
    "        g.add((self.ic, IC[\"表記\"], rdflib.Literal(name, datatype=rdflib.XSD.string)))\n",
    "        # e-Stat LOD 準拠\n",
    "        g.add((self.sac, RDFS[\"label\"], rdflib.Literal(name, lang=\"ja\")))\n",
    "        g.add((self.sac, RDFS[\"label\"], rdflib.Literal(kana, lang=\"ja-Hira\")))\n",
    "\n",
    "q = '''\n",
    "PREFIX dcterms: <http://purl.org/dc/terms/>\n",
    "PREFIX sacs: <http://data.e-stat.go.jp/lod/terms/sacs#>\n",
    "SELECT ?s ?d WHERE {\n",
    "  ?s a sacs:StandardAreaCode ;\n",
    "     dcterms:identifier \"%s\" ;\n",
    "     dcterms:issued ?d .\n",
    "}\n",
    "ORDER BY DESC(?d)\n",
    "'''\n",
    "code_ids = []\n",
    "\n",
    "last_date = None\n",
    "\n",
    "ev = None\n",
    "cid = -1\n",
    "for ri, r in t.sort_values([\"date\",\"cid\"]).iterrows():\n",
    "    last_date = r[\"date\"]\n",
    "    \n",
    "    if cid != r[\"cid\"]:\n",
    "        dtstr = r[\"date\"].strftime(\"%Y-%m-%d\")\n",
    "        ev = rdflib.BNode(\"_:ev%s-%02d\" % (dtstr,cid))\n",
    "        g.add((ev, RDF[\"type\"], JITIS[\"CodeChangeEvent\"]))\n",
    "        g.add((ev, DCTERMS[\"issue\"], rdflib.Literal(dtstr, datatype=rdflib.XSD.date)))\n",
    "        cid = r[\"cid\"]\n",
    "    \n",
    "    if not math.isnan(r[\"改正前コード\"]):\n",
    "        tc = get_code(r[\"改正前コード\"])\n",
    "        cids = [cid for c,cid in code_ids if c==tc]\n",
    "        code_id = None\n",
    "        if cids:\n",
    "            code_id = cids[0]\n",
    "        else:\n",
    "            for s,d in estat.query(q % tc[:5]):\n",
    "                if d.value < r[\"date\"]:\n",
    "                    code_id = get_code_id(s)\n",
    "                    break\n",
    "        assert code_id\n",
    "        g.add((ev, JITIS[\"old\"], JITI[code_id]))\n",
    "        Code(code_id).set_name(r[\"改正前市区町村名\"], r[\"改正前市区町村名ふりがな\"])\n",
    "    \n",
    "    code = None\n",
    "    code_id = None\n",
    "    if r[\"改正後コード\"]==\"削除\" or r[\"改正区分\"] == \"欠番\":\n",
    "        pass\n",
    "    elif r[\"改正後コード\"] == \"同左\":\n",
    "        if math.isnan(r[\"改正前コード\"]):\n",
    "            raise Exception(r.to_csv())\n",
    "        code = get_code(r[\"改正前コード\"])\n",
    "        code_id = \"C%s-%s\" % (code[:5], r[\"date\"].strftime(\"%Y%m%d\"))\n",
    "    else:\n",
    "        try:\n",
    "            code = get_code(r[\"改正後コード\"])\n",
    "            code_id = \"C%s-%s\" % (code[:5], r[\"date\"].strftime(\"%Y%m%d\"))\n",
    "        except:\n",
    "            raise Exception(r.to_csv())\n",
    "    \n",
    "    if code and code_id:\n",
    "        tq = \"SELECT ?n WHERE { <%s> <%s> ?n . }\"\n",
    "        for n, in g.query(tq % (JITI[code_id], RDFS[\"label\"])):\n",
    "            g.remove((JITI[code_id], p, n))\n",
    "        \n",
    "        code_ids.append((code, code_id))\n",
    "        g.add((ev, JITIS[\"new\"], JITI[code_id]))\n",
    "        \n",
    "        name = r[\"改正後市区町村名\"]\n",
    "        if name.strip()==\"同左\":\n",
    "            name = r[\"改正前市区町村名\"]\n",
    "        \n",
    "        kana = r[\"改正後市区町村名ふりがな\"]\n",
    "        if isinstance(kana, float) or kana.strip()==\"同左\":\n",
    "            kana = r[\"改正前市区町村名ふりがな\"]\n",
    "        \n",
    "        Code(code_id).set_name(name, kana)"
   ]
  },
  {
   "cell_type": "markdown",
   "metadata": {
    "collapsed": false
   },
   "source": [
    "コードセットの登録。"
   ]
  },
  {
   "cell_type": "code",
   "execution_count": 11,
   "metadata": {
    "collapsed": false
   },
   "outputs": [],
   "source": [
    "dtstr = last_date.strftime(\"%Y-%m-%d\")\n",
    "cs = rdflib.BNode(\"_:cs%s\" % dtstr)\n",
    "g.add((cs, rdflib.RDF[\"type\"], JITIS[\"CodeSet\"]))\n",
    "g.add((cs, DCTERMS[\"issue\"], rdflib.Literal(dtstr, datatype=rdflib.XSD.date)))"
   ]
  },
  {
   "cell_type": "code",
   "execution_count": 12,
   "metadata": {
    "collapsed": false
   },
   "outputs": [],
   "source": [
    "q = '''\n",
    "PREFIX sacs: <%s>\n",
    "PREFIX dcterms: <http://purl.org/dc/terms/>\n",
    "SELECT ?s WHERE {\n",
    "  ?s a sacs:StandardAreaCode ;\n",
    "     dcterms:identifier \"%s\" .\n",
    "}\n",
    "ORDER BY DESC(?s)\n",
    "'''\n",
    "\n",
    "x = pd.read_excel(clist)\n",
    "for ri,r in x.iterrows():\n",
    "    code = get_code(r[\"団体コード\"])\n",
    "    code_id = None\n",
    "    for s, in g.query(q % (JITIS, code[:5])):\n",
    "        code_id = get_code_id(s)\n",
    "        break\n",
    "    \n",
    "    if code_id is None:\n",
    "        for s, in estat.query(q % (SACS, code[:5])):\n",
    "            code_id = get_code_id(s)\n",
    "            break\n",
    "        \n",
    "        name = r[\"市区町村名\\n（漢字）\"]\n",
    "        if isinstance(name, float) or not name.strip():\n",
    "            name = r[\"都道府県名\\n（漢字）\"]\n",
    "\n",
    "        kana = r[\"市区町村名\\n（カナ）\"]\n",
    "        if isinstance(kana, float) or not kana.strip():\n",
    "            kana = r[\"都道府県名\\n（カナ）\"]\n",
    "        \n",
    "        Code(code_id).set_name(name, jaconv.kata2hira(jaconv.h2z(kana)))\n",
    "    \n",
    "    assert code_id, code\n",
    "    g.add((cs, DCTERMS[\"hasPart\"], JITI[code_id]))"
   ]
  },
  {
   "cell_type": "code",
   "execution_count": 13,
   "metadata": {
    "collapsed": false
   },
   "outputs": [
    {
     "data": {
      "text/plain": [
       "[(rdflib.term.URIRef('http://hkwi.github.com/denshijiti/#C01206-20051011')),\n",
       " (rdflib.term.URIRef('http://hkwi.github.com/denshijiti/#C01206-19740901'))]"
      ]
     },
     "execution_count": 13,
     "metadata": {},
     "output_type": "execute_result"
    }
   ],
   "source": [
    "list(g.query(q% (JITIS, \"01206\")))"
   ]
  },
  {
   "cell_type": "markdown",
   "metadata": {},
   "source": [
    "過去履歴を逆向きに遡ってコードセットを登録してもよい。"
   ]
  },
  {
   "cell_type": "code",
   "execution_count": 14,
   "metadata": {
    "collapsed": false
   },
   "outputs": [],
   "source": [
    "with open(\"code.ttl\", \"wb\") as f:\n",
    "    g.serialize(destination=f, format=\"turtle\")"
   ]
  }
 ],
 "metadata": {
  "anaconda-cloud": {},
  "kernelspec": {
   "display_name": "Python [conda env:geo]",
   "language": "python",
   "name": "conda-env-geo-py"
  },
  "language_info": {
   "codemirror_mode": {
    "name": "ipython",
    "version": 3
   },
   "file_extension": ".py",
   "mimetype": "text/x-python",
   "name": "python",
   "nbconvert_exporter": "python",
   "pygments_lexer": "ipython3",
   "version": "3.5.2"
  }
 },
 "nbformat": 4,
 "nbformat_minor": 1
}
