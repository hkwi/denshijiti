{
 "cells": [
  {
   "cell_type": "markdown",
   "metadata": {},
   "source": [
    "「標準地域コード」の助けを借りつつ、「全国地方公共団体コード」の RDF を生成する。"
   ]
  },
  {
   "cell_type": "code",
   "execution_count": 1,
   "metadata": {
    "collapsed": false
   },
   "outputs": [
    {
     "name": "stderr",
     "output_type": "stream",
     "text": [
      "INFO:rdflib:RDFLib Version: 4.2.1\n"
     ]
    }
   ],
   "source": [
    "import pandas as pd\n",
    "import numpy as np\n",
    "import rdflib\n",
    "import datetime\n",
    "import re\n",
    "import lxml.html\n",
    "import rdflib\n",
    "import math\n",
    "import os.path\n",
    "import urllib.parse\n",
    "import jaconv"
   ]
  },
  {
   "cell_type": "markdown",
   "metadata": {},
   "source": [
    "e-stat「標準地域コード」を取り込む。http://data.e-stat.go.jp/lodw/rdfschema/downloadfile/"
   ]
  },
  {
   "cell_type": "code",
   "execution_count": 2,
   "metadata": {
    "collapsed": false
   },
   "outputs": [],
   "source": [
    "estat = rdflib.Graph()\n",
    "estat.load(\"http://data.e-stat.go.jp/lodw/download/rdfschema/StandardAreaCode.ttl\", format=\"turtle\")"
   ]
  },
  {
   "cell_type": "markdown",
   "metadata": {},
   "source": [
    "現在の excel を収集する。"
   ]
  },
  {
   "cell_type": "code",
   "execution_count": 3,
   "metadata": {
    "collapsed": false
   },
   "outputs": [],
   "source": [
    "p = lxml.html.parse(\"http://www.soumu.go.jp/denshijiti/code.html\")\n",
    "r = p.getroot()\n",
    "r.make_links_absolute()\n",
    "for h in r.xpath(\"//h3\"):\n",
    "    if h.text.find(\"都道府県コード\") >= 0:\n",
    "        for l in h.xpath(\"following-sibling::node()//li\"):\n",
    "            if l.text.find(\"改正一覧\") >= 0:\n",
    "                for a in l.xpath(\"self::node()//a/@href\"):\n",
    "                    if a.lower().endswith(\".xls\"):\n",
    "                        clist_hist = a\n",
    "                        break\n",
    "            else:\n",
    "                for a in l.xpath(\"self::node()//a/@href\"):\n",
    "                    if a.lower().endswith(\".xls\"):\n",
    "                        clist = a\n",
    "                        break"
   ]
  },
  {
   "cell_type": "markdown",
   "metadata": {},
   "source": [
    "まず過去履歴を集める"
   ]
  },
  {
   "cell_type": "code",
   "execution_count": 4,
   "metadata": {
    "collapsed": false
   },
   "outputs": [],
   "source": [
    "x = pd.read_excel(clist_hist, skiprows=1, header=[0,1,2])\n",
    "x.columns=[\n",
    "    \"a\",\"b\",\"c\",\"都道府県名\",\n",
    "    \"改正前コード\",\"改正前市区町村名\",\"改正前市区町村名ふりがな\",\n",
    "    \"改正区分\",\"改正年月日\",\n",
    "    \"改正後コード\",\"改正後市区町村名\",\"改正後市区町村名ふりがな\",\n",
    "    \"事由等\"\n",
    "]\n",
    "x.index = range(len(x.index))"
   ]
  },
  {
   "cell_type": "code",
   "execution_count": 5,
   "metadata": {
    "collapsed": false
   },
   "outputs": [],
   "source": [
    "asub = x[\"改正前市区町村名\"].str.extract(r\"^[\\(（](.*)[\\)）]$\", expand=False)\n",
    "bsub = x[\"改正後市区町村名\"].str.extract(r\"^[\\(（](.*)[\\)）]$\", expand=False)\n",
    "ks = [\"都道府県名\", \"改正前コード\", \"改正区分\", \"改正年月日\", \"改正後コード\"]\n",
    "x2 = x[asub.isnull() & bsub.isnull() & x[ks].notnull().any(axis=1)].assign(asub=None, bsub=None)\n",
    "for i,d in asub[asub.notnull()].iteritems():\n",
    "    x2.loc[i-1, \"asub\"] = d\n",
    "for i,d in asub[bsub.notnull()].iteritems():\n",
    "    x2.loc[i-1, \"bsub\"] = d\n",
    "\n",
    "x2.index = range(len(x2.index))"
   ]
  },
  {
   "cell_type": "code",
   "execution_count": 6,
   "metadata": {
    "collapsed": false
   },
   "outputs": [],
   "source": [
    "for ri,r in x2.iterrows():\n",
    "    for ci,c in r.iteritems():\n",
    "        if c==\"〃\":\n",
    "            x2.loc[ri, ci] = x2.loc[ri-1, ci]"
   ]
  },
  {
   "cell_type": "code",
   "execution_count": 7,
   "metadata": {
    "collapsed": true
   },
   "outputs": [],
   "source": [
    "cids = []\n",
    "cid = 0\n",
    "t = x2.assign(u=lambda o: o[\"都道府県名\"].notnull())\n",
    "for ri, r in x2.iterrows():\n",
    "    if r[\"都道府県名\"] is not np.nan:\n",
    "        cid += 1\n",
    "    cids.append(cid)"
   ]
  },
  {
   "cell_type": "code",
   "execution_count": 8,
   "metadata": {
    "collapsed": false
   },
   "outputs": [],
   "source": [
    "dts = []\n",
    "t = pd.concat([x2, pd.Series(cids, name=\"cid\"), pd.Series(None, name=\"date\")], axis=1)\n",
    "for i in range(cid):\n",
    "    u = t[(t[\"cid\"]==i+1) & t[\"改正年月日\"].notnull()]\n",
    "    assert len(set(u[\"改正年月日\"]))==1, u.to_csv()\n",
    "    for d in set(u[\"改正年月日\"]):\n",
    "        if isinstance(d, datetime.datetime):\n",
    "            dt = d.date()\n",
    "        elif isinstance(d, datetime.date):\n",
    "            dt = d\n",
    "        else:\n",
    "            m = re.match(r\"H(\\d{2})\\.(\\d+)\\.(\\d+)\", d)\n",
    "            dt = datetime.date(2000+int(m.group(1))-12, int(m.group(2)), int(m.group(3)))\n",
    "    for ri,r in t[(t[\"cid\"]==i+1)].iterrows():\n",
    "        t.loc[ri,\"date\"] = dt\n"
   ]
  },
  {
   "cell_type": "code",
   "execution_count": 9,
   "metadata": {
    "collapsed": false
   },
   "outputs": [],
   "source": [
    "g = rdflib.Graph()\n",
    "SACS = rdflib.Namespace(\"http://data.e-stat.go.jp/lod/terms/sacs#\")\n",
    "JITI = rdflib.Namespace(\"http://hkwi.github.com/denshijiti/#\")\n",
    "JITIS = rdflib.Namespace(\"http://hkwi.github.com/denshijiti/terms#\")\n",
    "g.bind(\"jiti\", JITI)\n",
    "g.bind(\"jitis\", JITIS)\n",
    "g.bind(\"dcterms\", rdflib.namespace.DCTERMS)\n",
    "\n",
    "def get_code(code_like):\n",
    "    return \"%06d\" % int(code_like)\n",
    "\n",
    "q = '''\n",
    "PREFIX dcterms: <http://purl.org/dc/terms/>\n",
    "PREFIX sacs: <http://data.e-stat.go.jp/lod/terms/sacs#>\n",
    "SELECT ?s ?d WHERE {\n",
    "  ?s a sacs:StandardAreaCode ;\n",
    "     dcterms:identifier \"%s\" ;\n",
    "     dcterms:issued ?d .\n",
    "}\n",
    "ORDER BY DESC(?d)\n",
    "'''\n",
    "code_ids = []\n",
    "\n",
    "last_date = None\n",
    "\n",
    "ev = None\n",
    "cid = -1\n",
    "for ri, r in t.sort_values([\"date\",\"cid\"]).iterrows():\n",
    "    last_date = r[\"date\"]\n",
    "    \n",
    "    if cid != r[\"cid\"]:\n",
    "        dtstr = r[\"date\"].strftime(\"%Y-%m-%d\")\n",
    "        ev = rdflib.BNode(\"_:ev%s-%02d\" % (dtstr,cid))\n",
    "        g.add((ev, rdflib.RDF[\"type\"], JITIS[\"CodeChangeEvent\"]))\n",
    "        g.add((ev, rdflib.namespace.DCTERMS[\"issue\"], rdflib.Literal(dtstr, datatype=rdflib.XSD.date)))\n",
    "        cid = r[\"cid\"]\n",
    "    \n",
    "    if not math.isnan(r[\"改正前コード\"]):\n",
    "        tc = get_code(r[\"改正前コード\"])\n",
    "        cids = [cid for c,cid in code_ids if c==tc]\n",
    "        code_id = None\n",
    "        if cids:\n",
    "            code_id = cids[0]\n",
    "        else:\n",
    "            for s,d in estat.query(q % tc[:5]):\n",
    "                if d.value < r[\"date\"]:\n",
    "                    code_id = os.path.basename(urllib.parse.urlparse(s).path)\n",
    "                    break\n",
    "        assert code_id\n",
    "        g.add((ev, JITIS[\"old\"], JITI[code_id]))\n",
    "        g.add((JITI[code_id], rdflib.RDF[\"type\"], JITIS[\"StandardAreaCode\"]))\n",
    "        g.add((JITI[code_id], rdflib.namespace.DCTERMS[\"identifier\"], rdflib.Literal(tc[:5])))\n",
    "        g.add((JITI[code_id], rdflib.namespace.RDFS[\"label\"], rdflib.Literal(r[\"改正前市区町村名\"])))\n",
    "        g.add((JITI[code_id], JITIS[\"kana\"], rdflib.Literal(r[\"改正前市区町村名ふりがな\"])))\n",
    "    \n",
    "    code = None\n",
    "    code_id = None\n",
    "    if r[\"改正後コード\"]==\"削除\" or r[\"改正区分\"] == \"欠番\":\n",
    "        pass\n",
    "    elif r[\"改正後コード\"] == \"同左\":\n",
    "        if r[\"改正前コード\"] is np.nan:\n",
    "            raise Exception(r.to_csv())\n",
    "        code = get_code(r[\"改正前コード\"])\n",
    "        code_id = \"C%s-%s\" % (code[:5], r[\"date\"].strftime(\"%Y%m%d\"))\n",
    "    else:\n",
    "        try:\n",
    "            code = get_code(r[\"改正後コード\"])\n",
    "            code_id = \"C%s-%s\" % (code[:5], r[\"date\"].strftime(\"%Y%m%d\"))\n",
    "        except:\n",
    "            raise Exception(r.to_csv())\n",
    "    if code and code_id:\n",
    "        t = \"SELECT ?n WHERE { <%s> <%s> ?n . }\"\n",
    "        for p in (rdflib.namespace.RDFS[\"label\"], JITIS[\"kana\"]):\n",
    "            for n, in g.query(t % (JITI[code_id], p)):\n",
    "                g.remove((JITI[code_id], p, n))\n",
    "        \n",
    "        code_ids.append((code, code_id))\n",
    "        g.add((ev, JITIS[\"new\"], JITI[code_id]))\n",
    "        g.add((JITI[code_id], rdflib.RDF[\"type\"], JITIS[\"StandardAreaCode\"]))\n",
    "        g.add((JITI[code_id], rdflib.namespace.DCTERMS[\"identifier\"], rdflib.Literal(code[:5])))\n",
    "        if r[\"改正後市区町村名\"]==\"同左\":\n",
    "            g.add((JITI[code_id], rdflib.namespace.RDFS[\"label\"], rdflib.Literal(r[\"改正前市区町村名\"])))\n",
    "        else:\n",
    "            g.add((JITI[code_id], rdflib.namespace.RDFS[\"label\"], rdflib.Literal(r[\"改正後市区町村名\"])))\n",
    "        \n",
    "        if r[\"改正後市区町村名ふりがな\"]==\"同左\":\n",
    "            g.add((JITI[code_id], JITIS[\"kana\"], rdflib.Literal(r[\"改正前市区町村名ふりがな\"])))\n",
    "        else:\n",
    "            g.add((JITI[code_id], JITIS[\"kana\"], rdflib.Literal(r[\"改正後市区町村名ふりがな\"])))\n"
   ]
  },
  {
   "cell_type": "markdown",
   "metadata": {
    "collapsed": false
   },
   "source": [
    "コードセットの登録。"
   ]
  },
  {
   "cell_type": "code",
   "execution_count": 10,
   "metadata": {
    "collapsed": false
   },
   "outputs": [],
   "source": [
    "dtstr = last_date.strftime(\"%Y-%m-%d\")\n",
    "cs = rdflib.BNode(\"_:cs%s\" % dtstr)\n",
    "g.add((cs, rdflib.RDF[\"type\"], JITIS[\"CodeSet\"]))\n",
    "g.add((cs, rdflib.namespace.DCTERMS[\"issue\"], rdflib.Literal(dtstr, datatype=rdflib.XSD.date)))"
   ]
  },
  {
   "cell_type": "code",
   "execution_count": 11,
   "metadata": {
    "collapsed": false
   },
   "outputs": [],
   "source": [
    "q = '''\n",
    "PREFIX sacs: <%s>\n",
    "PREFIX dcterms: <http://purl.org/dc/terms/>\n",
    "SELECT ?s WHERE {\n",
    "  ?s a sacs:StandardAreaCode ;\n",
    "     dcterms:identifier \"%s\" .\n",
    "}\n",
    "ORDER BY DESC(?s)\n",
    "'''\n",
    "\n",
    "x = pd.read_excel(clist)\n",
    "for ri,r in x.iterrows():\n",
    "    code = get_code(r[\"団体コード\"])\n",
    "    code_id = None\n",
    "    for s, in g.query(q % (JITIS, code[:5])):\n",
    "        code_id = s\n",
    "        break\n",
    "    if code_id is None:\n",
    "        for s, in estat.query(q % (SACS, code[:5])):\n",
    "            code_id = JITI[os.path.basename(urllib.parse.urlparse(s).path)]\n",
    "            break\n",
    "        g.add((code_id, rdflib.RDF[\"type\"], JITIS[\"StandardAreaCode\"]))\n",
    "        g.add((code_id, rdflib.namespace.DCTERMS[\"identifier\"], rdflib.Literal(code[:5])))\n",
    "        n = r[\"市区町村名\\n（漢字）\"]\n",
    "        if (isinstance(n,float) and math.isnan(n)) or (isinstance(n,str) and not n.strip()):\n",
    "            n = r[\"都道府県名\\n（漢字）\"]\n",
    "        g.add((code_id, rdflib.namespace.RDFS[\"label\"], rdflib.Literal(n)))\n",
    "        # XXX: 半角カタカナを全角ひらがなに変換したい\n",
    "        n = r[\"市区町村名\\n（カナ）\"]\n",
    "        if (isinstance(n,float) and math.isnan(n)) or (isinstance(n,str) and not n.strip()):\n",
    "            n = r[\"都道府県名\\n（カナ）\"]\n",
    "        g.add((code_id, JITIS[\"kana\"], rdflib.Literal(jaconv.kata2hira(jaconv.h2z(n)))))\n",
    "    g.add((cs, rdflib.namespace.DCTERMS[\"hasPart\"], code_id))"
   ]
  },
  {
   "cell_type": "markdown",
   "metadata": {},
   "source": [
    "過去履歴を逆向きに遡ってコードセットを登録してもよい。"
   ]
  },
  {
   "cell_type": "code",
   "execution_count": 12,
   "metadata": {
    "collapsed": false
   },
   "outputs": [],
   "source": [
    "with open(\"code.ttl\", \"wb\") as f:\n",
    "    g.serialize(destination=f, format=\"turtle\")"
   ]
  },
  {
   "cell_type": "code",
   "execution_count": null,
   "metadata": {
    "collapsed": true
   },
   "outputs": [],
   "source": []
  }
 ],
 "metadata": {
  "anaconda-cloud": {},
  "kernelspec": {
   "display_name": "Python [conda env:geo]",
   "language": "python",
   "name": "conda-env-geo-py"
  },
  "language_info": {
   "codemirror_mode": {
    "name": "ipython",
    "version": 3
   },
   "file_extension": ".py",
   "mimetype": "text/x-python",
   "name": "python",
   "nbconvert_exporter": "python",
   "pygments_lexer": "ipython3",
   "version": "3.5.2"
  }
 },
 "nbformat": 4,
 "nbformat_minor": 1
}
